{
 "cells": [
  {
   "cell_type": "markdown",
   "id": "17a502fb-c442-4491-8289-03fa5561aab5",
   "metadata": {},
   "source": [
    "<centre><h2>**GENDER-BASED VIOLENCE IN KENYA - ANALYSIS**</centre></h2>\n",
    "\n",
    "This analysis seeks to answer the following questions:\n",
    "<br>what was the most common reason given in the survey as to why women were beaten?</br>\n",
    "<br>How do the two genders, male and female compare when it comes to supporting gender violence against women?</br>\n",
    "<br>How age,residence and level of education relates to women's justification of gender violence?</br>"
   ]
  },
  {
   "cell_type": "code",
   "execution_count": 5,
   "id": "58ebfd39-0dce-42d1-bcf5-a2e98c935355",
   "metadata": {},
   "outputs": [
    {
     "data": {
      "text/html": [
       "<div>\n",
       "<style scoped>\n",
       "    .dataframe tbody tr th:only-of-type {\n",
       "        vertical-align: middle;\n",
       "    }\n",
       "\n",
       "    .dataframe tbody tr th {\n",
       "        vertical-align: top;\n",
       "    }\n",
       "\n",
       "    .dataframe thead th {\n",
       "        text-align: right;\n",
       "    }\n",
       "</style>\n",
       "<table border=\"1\" class=\"dataframe\">\n",
       "  <thead>\n",
       "    <tr style=\"text-align: right;\">\n",
       "      <th></th>\n",
       "      <th>RecordID</th>\n",
       "      <th>Country</th>\n",
       "      <th>Gender</th>\n",
       "      <th>Demographics Question</th>\n",
       "      <th>Demographics Response</th>\n",
       "      <th>Question</th>\n",
       "      <th>Survey Year</th>\n",
       "      <th>Value</th>\n",
       "    </tr>\n",
       "  </thead>\n",
       "  <tbody>\n",
       "    <tr>\n",
       "      <th>0</th>\n",
       "      <td>1</td>\n",
       "      <td>Afghanistan</td>\n",
       "      <td>F</td>\n",
       "      <td>Marital status</td>\n",
       "      <td>Never married</td>\n",
       "      <td>... if she burns the food</td>\n",
       "      <td>01/01/2015</td>\n",
       "      <td>NaN</td>\n",
       "    </tr>\n",
       "    <tr>\n",
       "      <th>1</th>\n",
       "      <td>1</td>\n",
       "      <td>Afghanistan</td>\n",
       "      <td>F</td>\n",
       "      <td>Education</td>\n",
       "      <td>Higher</td>\n",
       "      <td>... if she burns the food</td>\n",
       "      <td>01/01/2015</td>\n",
       "      <td>10.1</td>\n",
       "    </tr>\n",
       "    <tr>\n",
       "      <th>2</th>\n",
       "      <td>1</td>\n",
       "      <td>Afghanistan</td>\n",
       "      <td>F</td>\n",
       "      <td>Education</td>\n",
       "      <td>Secondary</td>\n",
       "      <td>... if she burns the food</td>\n",
       "      <td>01/01/2015</td>\n",
       "      <td>13.7</td>\n",
       "    </tr>\n",
       "    <tr>\n",
       "      <th>3</th>\n",
       "      <td>1</td>\n",
       "      <td>Afghanistan</td>\n",
       "      <td>F</td>\n",
       "      <td>Education</td>\n",
       "      <td>Primary</td>\n",
       "      <td>... if she burns the food</td>\n",
       "      <td>01/01/2015</td>\n",
       "      <td>13.8</td>\n",
       "    </tr>\n",
       "    <tr>\n",
       "      <th>4</th>\n",
       "      <td>1</td>\n",
       "      <td>Afghanistan</td>\n",
       "      <td>F</td>\n",
       "      <td>Marital status</td>\n",
       "      <td>Widowed, divorced, separated</td>\n",
       "      <td>... if she burns the food</td>\n",
       "      <td>01/01/2015</td>\n",
       "      <td>13.8</td>\n",
       "    </tr>\n",
       "  </tbody>\n",
       "</table>\n",
       "</div>"
      ],
      "text/plain": [
       "   RecordID      Country Gender Demographics Question  \\\n",
       "0         1  Afghanistan      F        Marital status   \n",
       "1         1  Afghanistan      F             Education   \n",
       "2         1  Afghanistan      F             Education   \n",
       "3         1  Afghanistan      F             Education   \n",
       "4         1  Afghanistan      F        Marital status   \n",
       "\n",
       "          Demographics Response                   Question Survey Year  Value  \n",
       "0                 Never married  ... if she burns the food  01/01/2015    NaN  \n",
       "1                        Higher  ... if she burns the food  01/01/2015   10.1  \n",
       "2                     Secondary  ... if she burns the food  01/01/2015   13.7  \n",
       "3                       Primary  ... if she burns the food  01/01/2015   13.8  \n",
       "4  Widowed, divorced, separated  ... if she burns the food  01/01/2015   13.8  "
      ]
     },
     "execution_count": 5,
     "metadata": {},
     "output_type": "execute_result"
    }
   ],
   "source": [
    "import pandas as pd\n",
    "df=pd.read_csv('violence_data.csv') #load the dataset\n",
    "df.head(5)\n"
   ]
  },
  {
   "cell_type": "code",
   "execution_count": 6,
   "id": "8e2efcde-5bff-4e9f-bf92-6fb30636a1a0",
   "metadata": {},
   "outputs": [
    {
     "data": {
      "text/plain": [
       "<bound method DataFrame.info of        RecordID      Country Gender Demographics Question  \\\n",
       "0             1  Afghanistan      F        Marital status   \n",
       "1             1  Afghanistan      F             Education   \n",
       "2             1  Afghanistan      F             Education   \n",
       "3             1  Afghanistan      F             Education   \n",
       "4             1  Afghanistan      F        Marital status   \n",
       "...         ...          ...    ...                   ...   \n",
       "12595       210     Zimbabwe      M             Residence   \n",
       "12596       280     Zimbabwe      M             Residence   \n",
       "12597       280     Zimbabwe      M             Residence   \n",
       "12598       350     Zimbabwe      M             Residence   \n",
       "12599       350     Zimbabwe      M             Residence   \n",
       "\n",
       "              Demographics Response                                 Question  \\\n",
       "0                     Never married                ... if she burns the food   \n",
       "1                            Higher                ... if she burns the food   \n",
       "2                         Secondary                ... if she burns the food   \n",
       "3                           Primary                ... if she burns the food   \n",
       "4      Widowed, divorced, separated                ... if she burns the food   \n",
       "...                             ...                                      ...   \n",
       "12595                         Urban  ... if she goes out without telling him   \n",
       "12596                         Rural         ... if she neglects the children   \n",
       "12597                         Urban         ... if she neglects the children   \n",
       "12598                         Rural  ... if she refuses to have sex with him   \n",
       "12599                         Urban  ... if she refuses to have sex with him   \n",
       "\n",
       "      Survey Year  Value  \n",
       "0      01/01/2015    NaN  \n",
       "1      01/01/2015   10.1  \n",
       "2      01/01/2015   13.7  \n",
       "3      01/01/2015   13.8  \n",
       "4      01/01/2015   13.8  \n",
       "...           ...    ...  \n",
       "12595  01/01/2015   11.8  \n",
       "12596  01/01/2015   20.1  \n",
       "12597  01/01/2015   15.0  \n",
       "12598  01/01/2015    7.2  \n",
       "12599  01/01/2015    3.7  \n",
       "\n",
       "[12600 rows x 8 columns]>"
      ]
     },
     "execution_count": 6,
     "metadata": {},
     "output_type": "execute_result"
    }
   ],
   "source": [
    "#an overview of the dataset\n",
    "df.info"
   ]
  },
  {
   "cell_type": "code",
   "execution_count": 7,
   "id": "5ac21deb-ad85-490d-83f6-f6ae3017325e",
   "metadata": {},
   "outputs": [
    {
     "data": {
      "text/html": [
       "<div>\n",
       "<style scoped>\n",
       "    .dataframe tbody tr th:only-of-type {\n",
       "        vertical-align: middle;\n",
       "    }\n",
       "\n",
       "    .dataframe tbody tr th {\n",
       "        vertical-align: top;\n",
       "    }\n",
       "\n",
       "    .dataframe thead th {\n",
       "        text-align: right;\n",
       "    }\n",
       "</style>\n",
       "<table border=\"1\" class=\"dataframe\">\n",
       "  <thead>\n",
       "    <tr style=\"text-align: right;\">\n",
       "      <th></th>\n",
       "      <th>RecordID</th>\n",
       "      <th>Country</th>\n",
       "      <th>Gender</th>\n",
       "      <th>Demographics Question</th>\n",
       "      <th>Demographics Response</th>\n",
       "      <th>Question</th>\n",
       "      <th>Survey Year</th>\n",
       "      <th>Value</th>\n",
       "    </tr>\n",
       "  </thead>\n",
       "  <tbody>\n",
       "    <tr>\n",
       "      <th>count</th>\n",
       "      <td>12600.000000</td>\n",
       "      <td>12600</td>\n",
       "      <td>12600</td>\n",
       "      <td>12600</td>\n",
       "      <td>12600</td>\n",
       "      <td>12600</td>\n",
       "      <td>12600</td>\n",
       "      <td>11187.000000</td>\n",
       "    </tr>\n",
       "    <tr>\n",
       "      <th>unique</th>\n",
       "      <td>NaN</td>\n",
       "      <td>70</td>\n",
       "      <td>2</td>\n",
       "      <td>5</td>\n",
       "      <td>15</td>\n",
       "      <td>6</td>\n",
       "      <td>18</td>\n",
       "      <td>NaN</td>\n",
       "    </tr>\n",
       "    <tr>\n",
       "      <th>top</th>\n",
       "      <td>NaN</td>\n",
       "      <td>Afghanistan</td>\n",
       "      <td>F</td>\n",
       "      <td>Education</td>\n",
       "      <td>Never married</td>\n",
       "      <td>... if she burns the food</td>\n",
       "      <td>01/01/2013</td>\n",
       "      <td>NaN</td>\n",
       "    </tr>\n",
       "    <tr>\n",
       "      <th>freq</th>\n",
       "      <td>NaN</td>\n",
       "      <td>180</td>\n",
       "      <td>6300</td>\n",
       "      <td>3360</td>\n",
       "      <td>840</td>\n",
       "      <td>2100</td>\n",
       "      <td>1980</td>\n",
       "      <td>NaN</td>\n",
       "    </tr>\n",
       "    <tr>\n",
       "      <th>mean</th>\n",
       "      <td>210.500000</td>\n",
       "      <td>NaN</td>\n",
       "      <td>NaN</td>\n",
       "      <td>NaN</td>\n",
       "      <td>NaN</td>\n",
       "      <td>NaN</td>\n",
       "      <td>NaN</td>\n",
       "      <td>19.762537</td>\n",
       "    </tr>\n",
       "    <tr>\n",
       "      <th>std</th>\n",
       "      <td>121.248024</td>\n",
       "      <td>NaN</td>\n",
       "      <td>NaN</td>\n",
       "      <td>NaN</td>\n",
       "      <td>NaN</td>\n",
       "      <td>NaN</td>\n",
       "      <td>NaN</td>\n",
       "      <td>16.986437</td>\n",
       "    </tr>\n",
       "    <tr>\n",
       "      <th>min</th>\n",
       "      <td>1.000000</td>\n",
       "      <td>NaN</td>\n",
       "      <td>NaN</td>\n",
       "      <td>NaN</td>\n",
       "      <td>NaN</td>\n",
       "      <td>NaN</td>\n",
       "      <td>NaN</td>\n",
       "      <td>0.000000</td>\n",
       "    </tr>\n",
       "    <tr>\n",
       "      <th>25%</th>\n",
       "      <td>105.750000</td>\n",
       "      <td>NaN</td>\n",
       "      <td>NaN</td>\n",
       "      <td>NaN</td>\n",
       "      <td>NaN</td>\n",
       "      <td>NaN</td>\n",
       "      <td>NaN</td>\n",
       "      <td>6.200000</td>\n",
       "    </tr>\n",
       "    <tr>\n",
       "      <th>50%</th>\n",
       "      <td>210.500000</td>\n",
       "      <td>NaN</td>\n",
       "      <td>NaN</td>\n",
       "      <td>NaN</td>\n",
       "      <td>NaN</td>\n",
       "      <td>NaN</td>\n",
       "      <td>NaN</td>\n",
       "      <td>14.900000</td>\n",
       "    </tr>\n",
       "    <tr>\n",
       "      <th>75%</th>\n",
       "      <td>315.250000</td>\n",
       "      <td>NaN</td>\n",
       "      <td>NaN</td>\n",
       "      <td>NaN</td>\n",
       "      <td>NaN</td>\n",
       "      <td>NaN</td>\n",
       "      <td>NaN</td>\n",
       "      <td>29.200000</td>\n",
       "    </tr>\n",
       "    <tr>\n",
       "      <th>max</th>\n",
       "      <td>420.000000</td>\n",
       "      <td>NaN</td>\n",
       "      <td>NaN</td>\n",
       "      <td>NaN</td>\n",
       "      <td>NaN</td>\n",
       "      <td>NaN</td>\n",
       "      <td>NaN</td>\n",
       "      <td>86.900000</td>\n",
       "    </tr>\n",
       "  </tbody>\n",
       "</table>\n",
       "</div>"
      ],
      "text/plain": [
       "            RecordID      Country Gender Demographics Question  \\\n",
       "count   12600.000000        12600  12600                 12600   \n",
       "unique           NaN           70      2                     5   \n",
       "top              NaN  Afghanistan      F             Education   \n",
       "freq             NaN          180   6300                  3360   \n",
       "mean      210.500000          NaN    NaN                   NaN   \n",
       "std       121.248024          NaN    NaN                   NaN   \n",
       "min         1.000000          NaN    NaN                   NaN   \n",
       "25%       105.750000          NaN    NaN                   NaN   \n",
       "50%       210.500000          NaN    NaN                   NaN   \n",
       "75%       315.250000          NaN    NaN                   NaN   \n",
       "max       420.000000          NaN    NaN                   NaN   \n",
       "\n",
       "       Demographics Response                   Question Survey Year  \\\n",
       "count                  12600                      12600       12600   \n",
       "unique                    15                          6          18   \n",
       "top            Never married  ... if she burns the food  01/01/2013   \n",
       "freq                     840                       2100        1980   \n",
       "mean                     NaN                        NaN         NaN   \n",
       "std                      NaN                        NaN         NaN   \n",
       "min                      NaN                        NaN         NaN   \n",
       "25%                      NaN                        NaN         NaN   \n",
       "50%                      NaN                        NaN         NaN   \n",
       "75%                      NaN                        NaN         NaN   \n",
       "max                      NaN                        NaN         NaN   \n",
       "\n",
       "               Value  \n",
       "count   11187.000000  \n",
       "unique           NaN  \n",
       "top              NaN  \n",
       "freq             NaN  \n",
       "mean       19.762537  \n",
       "std        16.986437  \n",
       "min         0.000000  \n",
       "25%         6.200000  \n",
       "50%        14.900000  \n",
       "75%        29.200000  \n",
       "max        86.900000  "
      ]
     },
     "execution_count": 7,
     "metadata": {},
     "output_type": "execute_result"
    }
   ],
   "source": [
    "df.describe(include ='all') #descriptive statistics"
   ]
  },
  {
   "cell_type": "markdown",
   "id": "217521d6-05fa-469f-966f-aad4e357d8f6",
   "metadata": {},
   "source": [
    "Exploring the interview questions asked"
   ]
  },
  {
   "cell_type": "code",
   "execution_count": 8,
   "id": "47948d7d-f9bb-42ea-9346-eb260606a91a",
   "metadata": {},
   "outputs": [
    {
     "data": {
      "text/plain": [
       "array(['Marital status', 'Education', 'Employment', 'Age', 'Residence'],\n",
       "      dtype=object)"
      ]
     },
     "execution_count": 8,
     "metadata": {},
     "output_type": "execute_result"
    }
   ],
   "source": [
    "# unique demographic question categories \n",
    "df['Demographics Question'].unique()"
   ]
  },
  {
   "cell_type": "code",
   "execution_count": 9,
   "id": "ff725de4-d204-453a-95be-4fd373618b78",
   "metadata": {},
   "outputs": [
    {
     "data": {
      "text/plain": [
       "array(['Afghanistan', 'Albania', 'Angola', 'Armenia', 'Azerbaijan',\n",
       "       'Bangladesh', 'Benin', 'Bolivia', 'Burkina Faso', 'Burundi',\n",
       "       'Cambodia', 'Cameroon', 'Chad', 'Colombia', 'Comoros', 'Congo',\n",
       "       'Congo Democratic Republic', \"Cote d'Ivoire\", 'Dominican Republic',\n",
       "       'Egypt', 'Eritrea', 'Eswatini', 'Ethiopia', 'Gabon', 'Gambia',\n",
       "       'Ghana', 'Guatemala', 'Guinea', 'Guyana', 'Haiti', 'Honduras',\n",
       "       'India', 'Indonesia', 'Jordan', 'Kenya', 'Kyrgyz Republic',\n",
       "       'Lesotho', 'Liberia', 'Madagascar', 'Malawi', 'Maldives', 'Mali',\n",
       "       'Moldova', 'Morocco', 'Mozambique', 'Myanmar', 'Namibia', 'Nepal',\n",
       "       'Nicaragua', 'Niger', 'Nigeria', 'Pakistan', 'Peru', 'Philippines',\n",
       "       'Rwanda', 'Sao Tome and Principe', 'Senegal', 'Sierra Leone',\n",
       "       'South Africa', 'Tajikistan', 'Tanzania', 'Timor-Leste', 'Togo',\n",
       "       'Turkey', 'Turkmenistan', 'Uganda', 'Ukraine', 'Yemen', 'Zambia',\n",
       "       'Zimbabwe'], dtype=object)"
      ]
     },
     "execution_count": 9,
     "metadata": {},
     "output_type": "execute_result"
    }
   ],
   "source": [
    "df['Country'].unique() #countries featured"
   ]
  },
  {
   "cell_type": "code",
   "execution_count": 10,
   "id": "44460556-11d0-498a-aea9-cd8ed5bfe2c9",
   "metadata": {},
   "outputs": [
    {
     "data": {
      "text/plain": [
       "array(['... if she burns the food',\n",
       "       '... for at least one specific reason',\n",
       "       '... if she argues with him',\n",
       "       '... if she goes out without telling him',\n",
       "       '... if she neglects the children',\n",
       "       '... if she refuses to have sex with him'], dtype=object)"
      ]
     },
     "execution_count": 10,
     "metadata": {},
     "output_type": "execute_result"
    }
   ],
   "source": [
    "# Display the unique demographic questions asked during the interview\n",
    "df['Question'].unique()"
   ]
  },
  {
   "cell_type": "code",
   "execution_count": 11,
   "id": "029256a6-6cd6-46d5-8ad5-692a0228675d",
   "metadata": {},
   "outputs": [
    {
     "data": {
      "text/html": [
       "<div>\n",
       "<style scoped>\n",
       "    .dataframe tbody tr th:only-of-type {\n",
       "        vertical-align: middle;\n",
       "    }\n",
       "\n",
       "    .dataframe tbody tr th {\n",
       "        vertical-align: top;\n",
       "    }\n",
       "\n",
       "    .dataframe thead th {\n",
       "        text-align: right;\n",
       "    }\n",
       "</style>\n",
       "<table border=\"1\" class=\"dataframe\">\n",
       "  <thead>\n",
       "    <tr style=\"text-align: right;\">\n",
       "      <th></th>\n",
       "      <th>RecordID</th>\n",
       "      <th>Country</th>\n",
       "      <th>Gender</th>\n",
       "      <th>Demographics Question</th>\n",
       "      <th>Demographics Response</th>\n",
       "      <th>Question</th>\n",
       "      <th>Survey Year</th>\n",
       "      <th>Value</th>\n",
       "    </tr>\n",
       "  </thead>\n",
       "  <tbody>\n",
       "    <tr>\n",
       "      <th>6120</th>\n",
       "      <td>385</td>\n",
       "      <td>Kenya</td>\n",
       "      <td>F</td>\n",
       "      <td>Age</td>\n",
       "      <td>15-24</td>\n",
       "      <td>... for at least one specific reason</td>\n",
       "      <td>01/01/2014</td>\n",
       "      <td>42.0</td>\n",
       "    </tr>\n",
       "    <tr>\n",
       "      <th>6121</th>\n",
       "      <td>385</td>\n",
       "      <td>Kenya</td>\n",
       "      <td>F</td>\n",
       "      <td>Age</td>\n",
       "      <td>25-34</td>\n",
       "      <td>... for at least one specific reason</td>\n",
       "      <td>01/01/2014</td>\n",
       "      <td>39.8</td>\n",
       "    </tr>\n",
       "    <tr>\n",
       "      <th>6122</th>\n",
       "      <td>385</td>\n",
       "      <td>Kenya</td>\n",
       "      <td>F</td>\n",
       "      <td>Age</td>\n",
       "      <td>35-49</td>\n",
       "      <td>... for at least one specific reason</td>\n",
       "      <td>01/01/2014</td>\n",
       "      <td>44.0</td>\n",
       "    </tr>\n",
       "    <tr>\n",
       "      <th>6123</th>\n",
       "      <td>105</td>\n",
       "      <td>Kenya</td>\n",
       "      <td>F</td>\n",
       "      <td>Age</td>\n",
       "      <td>15-24</td>\n",
       "      <td>... if she argues with him</td>\n",
       "      <td>01/01/2014</td>\n",
       "      <td>20.9</td>\n",
       "    </tr>\n",
       "    <tr>\n",
       "      <th>6124</th>\n",
       "      <td>105</td>\n",
       "      <td>Kenya</td>\n",
       "      <td>F</td>\n",
       "      <td>Age</td>\n",
       "      <td>25-34</td>\n",
       "      <td>... if she argues with him</td>\n",
       "      <td>01/01/2014</td>\n",
       "      <td>20.1</td>\n",
       "    </tr>\n",
       "  </tbody>\n",
       "</table>\n",
       "</div>"
      ],
      "text/plain": [
       "      RecordID Country Gender Demographics Question Demographics Response  \\\n",
       "6120       385   Kenya      F                   Age                 15-24   \n",
       "6121       385   Kenya      F                   Age                 25-34   \n",
       "6122       385   Kenya      F                   Age                 35-49   \n",
       "6123       105   Kenya      F                   Age                 15-24   \n",
       "6124       105   Kenya      F                   Age                 25-34   \n",
       "\n",
       "                                  Question Survey Year  Value  \n",
       "6120  ... for at least one specific reason  01/01/2014   42.0  \n",
       "6121  ... for at least one specific reason  01/01/2014   39.8  \n",
       "6122  ... for at least one specific reason  01/01/2014   44.0  \n",
       "6123            ... if she argues with him  01/01/2014   20.9  \n",
       "6124            ... if she argues with him  01/01/2014   20.1  "
      ]
     },
     "execution_count": 11,
     "metadata": {},
     "output_type": "execute_result"
    }
   ],
   "source": [
    "kenya_df=df[df.Country=='Kenya'] # Filter the dataset to include only records from Kenya\n",
    "kenya_df.head(5)"
   ]
  },
  {
   "cell_type": "code",
   "execution_count": 12,
   "id": "f63128b1-c849-435a-af9d-9634b4c51c40",
   "metadata": {},
   "outputs": [
    {
     "data": {
      "text/plain": [
       "Question\n",
       "... if she neglects the children           30.976667\n",
       "... if she argues with him                 21.246667\n",
       "... if she goes out without telling him    20.986667\n",
       "... if she refuses to have sex with him    13.523333\n",
       "... if she burns the food                   6.220000\n",
       "Name: Value, dtype: float64"
      ]
     },
     "execution_count": 12,
     "metadata": {},
     "output_type": "execute_result"
    }
   ],
   "source": [
    "#what was the most common reason given in the survey as to why women were beaten?\n",
    "violence_reasons = kenya_df[kenya_df[\"Question\"].str.contains(\"if she\", case=False, na=False)].groupby(\"Question\")[\"Value\"].mean().sort_values(ascending=False)\n",
    "violence_reasons"
   ]
  },
  {
   "cell_type": "markdown",
   "id": "70849021-8bb9-4e30-a25b-9bfbed7b2298",
   "metadata": {},
   "source": [
    "Most common reason for violence.....**if she neglects the children (30.98%)**"
   ]
  },
  {
   "cell_type": "code",
   "execution_count": 16,
   "id": "daaead82-a9e9-442f-b2f4-34d1b3cf2296",
   "metadata": {},
   "outputs": [
    {
     "data": {
      "image/png": "[encoded data removed]",
      "text/plain": [
       "<Figure size 1000x600 with 1 Axes>"
      ]
     },
     "metadata": {},
     "output_type": "display_data"
    }
   ],
   "source": [
    "#Visualizing the responses in terms of %\n",
    "import matplotlib.pyplot as plt\n",
    "plt.figure(figsize=(10,6))\n",
    "violence_reasons.sort_values().plot(kind=\"barh\", color=\"skyblue\", edgecolor=\"black\")\n",
    "plt.xlabel(\"Percentage (%)\")\n",
    "plt.ylabel(\"Reason for Violence\")\n",
    "plt.title(\"Reasons for Gender Violence in Kenya (%)\")\n",
    "plt.grid(axis=\"x\", linestyle=\"--\", alpha=0.7)\n",
    "for index, value in enumerate(violence_reasons.sort_values()):\n",
    "    plt.text(value + 1, index, f\"{value:.2f}%\", va=\"center\", fontsize=10)\n",
    "plt.show()"
   ]
  },
  {
   "cell_type": "code",
   "execution_count": null,
   "id": "0ddc6662-897b-4b9d-bd46-24e31e5e6b16",
   "metadata": {},
   "outputs": [],
   "source": [
    "#How do the two genders, male and female compare when it comes to supporting gender violence against women?\n",
    "gender_support = kenya_df[kenya_df[\"Question\"].str.contains(\"if she\", case=False, na=False)].groupby(\"Gender\")[\"Value\"].mean().sort_values(ascending=False)\n",
    "print(\"\\nSupport for gender violence:\")\n",
    "print(gender_support)"
   ]
  },
  {
   "cell_type": "code",
   "execution_count": null,
   "id": "e443b4bd-a98f-4d0d-8894-d7c403bf2868",
   "metadata": {},
   "outputs": [],
   "source": [
    "#how age relates to women's justification of gender violence\n",
    "df_filter=kenya_df[(kenya_df['Gender']=='F')& (kenya_df['Demographics Question']=='Age')]\n",
    "age_justification = df_filter.groupby(\"Demographics Response\")[\"Value\"].mean().sort_index()\n",
    "\n",
    "# Plotting the results\n",
    "plt.figure(figsize=(8, 5))\n",
    "plt.plot(age_justification.index, age_justification.values, marker='o', linestyle='-', color='purple')\n",
    "plt.xlabel(\"Age Group\")\n",
    "plt.ylabel(\"Average Justification for Violence (%)\")\n",
    "plt.title(\"Justification of Gender Violence by Age Group (Women in Kenya)\")\n",
    "plt.xticks(rotation=30)\n",
    "\n",
    "# Adding data labels\n",
    "for i, txt in enumerate(age_justification.values):\n",
    "    plt.text(i, txt, f\"{txt:.2f}%\", ha='center', fontsize=10)\n",
    "\n",
    "plt.grid(True, linestyle='--', alpha=0.6)\n",
    "plt.show()\n",
    "\n",
    "# Display the results in dictionary format\n",
    "age_justification.to_dict()"
   ]
  },
  {
   "cell_type": "markdown",
   "id": "2e552d34-b2f5-40f0-bbca-dac39ca73ba0",
   "metadata": {},
   "source": [
    "from the graph above,it is evident that older women (35-49) are more likely to justify gender violence compared to the younger women"
   ]
  },
  {
   "cell_type": "code",
   "execution_count": 14,
   "id": "6468bf7c-a053-45c7-a51d-edee1ed0784a",
   "metadata": {},
   "outputs": [
    {
     "data": {
      "image/png": "[encoded data removed]",
      "text/plain": [
       "<Figure size 800x500 with 1 Axes>"
      ]
     },
     "metadata": {},
     "output_type": "display_data"
    }
   ],
   "source": [
    "#comparing urban vs. rural differences\n",
    "# Filter data for women and the question on residence\n",
    "df_women = df[df[\"Gender\"] == \"F\"]\n",
    "df_women_residence = df_women[df_women[\"Demographics Question\"] == \"Residence\"]\n",
    "\n",
    "# Grouping by residence type and calculate the average \n",
    "residence_vs_justification = df_women_residence.groupby(\"Demographics Response\")[\"Value\"].mean()\n",
    "\n",
    "# Plot the comparison\n",
    "plt.figure(figsize=(8, 5))\n",
    "plt.bar(residence_vs_justification.index, residence_vs_justification.values, color=['orange', 'green'])\n",
    "\n",
    "# Add labels and title\n",
    "plt.xlabel(\"Residence Type\")\n",
    "plt.ylabel(\"Average Justification for Violence (%)\")\n",
    "plt.title(\"Justification of Gender Violence by Residence (Women in Kenya)\")\n",
    "plt.grid(axis=\"y\", linestyle=\"--\", alpha=0.7)\n",
    "\n",
    "# Annotating the bars\n",
    "for i, value in enumerate(residence_vs_justification.values):\n",
    "    plt.text(i, value + 0.5, f\"{value:.2f}%\", ha=\"center\", fontsize=10)\n",
    "\n",
    "\n",
    "plt.show()# Show the plot\n"
   ]
  },
  {
   "cell_type": "markdown",
   "id": "e2153ff1-5d94-4192-b3c3-4e6cf00c956c",
   "metadata": {},
   "source": [
    "The chart confirms that women in rural areas tend to support gender violenece compared to those living in urban areas./n These could be attaributed to cultural norms or lower exposure to gender equality campaigns"
   ]
  },
  {
   "cell_type": "markdown",
   "id": "b088df69-5de5-464d-9724-e16e5e503588",
   "metadata": {},
   "source": [
    "**T-test to compare how education level relate to the justification of gender violence.**\n",
    "\n",
    "**H₀ (Null Hypothesis)**: There is no significant difference in the justification of gender violence between women with higher education and those with primary education.\n",
    "<br>**H₁ (Alternative Hypothesis)**: There is a significant difference in the justification of gender violence between women with higher education and those with primary education.</br>"
   ]
  },
  {
   "cell_type": "code",
   "execution_count": 15,
   "id": "fec1dd47-4b27-4dee-a30c-aa807dfb4668",
   "metadata": {},
   "outputs": [
    {
     "name": "stdout",
     "output_type": "stream",
     "text": [
      "\n",
      "Education Level Analysis:\n",
      "T-Statistic: -15.33, P-Value: 0.00000\n",
      "Education level significantly impacts justification of gender violence.\n"
     ]
    }
   ],
   "source": [
    "\n",
    "from scipy.stats import ttest_ind\n",
    "df_women = df[df[\"Gender\"] == \"F\"]\n",
    "df_education = df_women[df_women[\"Demographics Question\"] == \"Education\"]\n",
    "\n",
    "# Group: Higher Education vs. Primary Education\n",
    "higher_edu = df_education[df_education[\"Demographics Response\"] == \"Higher\"][\"Value\"].dropna()\n",
    "primary_edu = df_education[df_education[\"Demographics Response\"] == \"Primary\"][\"Value\"].dropna()\n",
    "\n",
    "if len(higher_edu) > 1 and len(primary_edu) > 1:\n",
    "    t_stat_edu, p_value_edu = ttest_ind(higher_edu, primary_edu, equal_var=False)\n",
    "    print(\"\\nEducation Level Analysis:\")\n",
    "    print(f\"T-Statistic: {t_stat_edu:.2f}, P-Value: {p_value_edu:.5f}\")\n",
    "    if p_value_edu < 0.05:\n",
    "        print(\"Education level significantly impacts justification of gender violence.\")\n",
    "    else:\n",
    "        print(\"No significant difference based on education level.\")\n",
    "else:\n",
    "    print(\"\\nEducation Level Analysis: Not enough data for t-test.\")"
   ]
  },
  {
   "cell_type": "code",
   "execution_count": null,
   "id": "d5411f7c-9625-4d9b-859c-ba2241801e2d",
   "metadata": {},
   "outputs": [],
   "source": []
  }
 ],
 "metadata": {
  "kernelspec": {
   "display_name": "Python 3 (ipykernel)",
   "language": "python",
   "name": "python3"
  },
  "language_info": {
   "codemirror_mode": {
    "name": "ipython",
    "version": 3
   },
   "file_extension": ".py",
   "mimetype": "text/x-python",
   "name": "python",
   "nbconvert_exporter": "python",
   "pygments_lexer": "ipython3",
   "version": "3.12.7"
  }
 },
 "nbformat": 4,
 "nbformat_minor": 5
}
